{
 "cells": [
  {
   "cell_type": "markdown",
   "id": "11401474-1cdc-45ef-ae76-1015823b10a0",
   "metadata": {},
   "source": [
    "<center>\n",
    "    <img src=\"https://cf-courses-data.s3.us.cloud-object-storage.appdomain.cloud/IBMDeveloperSkillsNetwork-DS0105EN-SkillsNetwork/labs/Module2/images/SN_web_lightmode.png\" width=\"300\" alt=\"cognitiveclass.ai logo\">\n",
    "</center>"
   ]
  },
  {
   "cell_type": "markdown",
   "id": "e10e76e5-652c-4200-b424-306bea04ac8e",
   "metadata": {},
   "source": [
    "# Data Science Tools and Ecosystem"
   ]
  },
  {
   "cell_type": "markdown",
   "id": "5266dd40-1345-4311-9ce0-cd102b1dab09",
   "metadata": {},
   "source": [
    "In this notebook, Data Science Tools and Ecosystem are summarized."
   ]
  },
  {
   "cell_type": "markdown",
   "id": "46ea33f8-d7a9-4136-bf39-a4d551159529",
   "metadata": {},
   "source": [
    "Some of the popular languages that Data Scientists use are:\n",
    "1. python\n",
    "2. R\n",
    "3. scala\n",
    "4. SQL"
   ]
  },
  {
   "cell_type": "markdown",
   "id": "22bae376-53dd-4400-abc0-2589ed8aae18",
   "metadata": {},
   "source": [
    "Some of the commonly used libraries used by Data Scientists include:\n",
    "1. Matplotlab\n",
    "2. Numpy\n",
    "3. ggplot\n",
    "4. Pandas\n",
    "5. TensorFlow\n",
    "6. SciKit-Learn"
   ]
  },
  {
   "cell_type": "markdown",
   "id": "69310dd6-6093-45fb-a19a-7ecf6b0e6cbc",
   "metadata": {},
   "source": [
    "|Data Science Tools|\n",
    "|-----|\n",
    "|Haddop|\n",
    "|Spark|\n",
    "|Python|\n",
    "|Jupyter|\n",
    "\n"
   ]
  },
  {
   "cell_type": "markdown",
   "id": "7437f38b-1721-4874-b768-9d19d178c410",
   "metadata": {},
   "source": [
    "Below are a few examples of evaluating arithmetic expressions in Python"
   ]
  },
  {
   "cell_type": "code",
   "execution_count": 1,
   "id": "1fb8e2fd-7078-460c-be1d-1ed0d4ba559f",
   "metadata": {},
   "outputs": [
    {
     "data": {
      "text/plain": [
       "17"
      ]
     },
     "execution_count": 1,
     "metadata": {},
     "output_type": "execute_result"
    }
   ],
   "source": [
    "#This a simple arithmetic expression to mutiply then add integers\n",
    "(3*4)+5"
   ]
  },
  {
   "cell_type": "code",
   "execution_count": 2,
   "id": "279de7cd-aa08-4299-a0da-d05978ef6779",
   "metadata": {},
   "outputs": [
    {
     "data": {
      "text/plain": [
       "3.3333333333333335"
      ]
     },
     "execution_count": 2,
     "metadata": {},
     "output_type": "execute_result"
    }
   ],
   "source": [
    "#This will convert 200 minutes to hours by diving by 60\n",
    "200/60"
   ]
  },
  {
   "cell_type": "code",
   "execution_count": 4,
   "id": "a76538de-a08f-4164-ade8-d80b94b9f1f4",
   "metadata": {},
   "outputs": [
    {
     "data": {
      "text/plain": [
       "'3h : 20m'"
      ]
     },
     "execution_count": 4,
     "metadata": {},
     "output_type": "execute_result"
    }
   ],
   "source": [
    "#convert : more human readable\n",
    "f\"{int(200/60)}h : {200%60}m\""
   ]
  },
  {
   "cell_type": "markdown",
   "id": "72a1977e-e905-4d69-b648-4ecf2a383ddd",
   "metadata": {},
   "source": [
    "**Objectives:**\n",
    "* list popular languages for data science\n",
    "* list common libraries used in data science\n",
    "* use basic markdown syntax"
   ]
  },
  {
   "cell_type": "markdown",
   "id": "056e978e-1c3d-41d9-8e5c-0aef56121cc6",
   "metadata": {},
   "source": [
    "## Author:\n",
    "    Yishak"
   ]
  }
 ],
 "metadata": {
  "kernelspec": {
   "display_name": "Python 3 (ipykernel)",
   "language": "python",
   "name": "python3"
  },
  "language_info": {
   "codemirror_mode": {
    "name": "ipython",
    "version": 3
   },
   "file_extension": ".py",
   "mimetype": "text/x-python",
   "name": "python",
   "nbconvert_exporter": "python",
   "pygments_lexer": "ipython3",
   "version": "3.11.8"
  }
 },
 "nbformat": 4,
 "nbformat_minor": 5
}
